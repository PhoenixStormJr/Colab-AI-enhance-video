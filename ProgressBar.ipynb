{
  "nbformat": 4,
  "nbformat_minor": 0,
  "metadata": {
    "colab": {
      "provenance": [],
      "authorship_tag": "ABX9TyPUf2ZRa+FMPBNDccbBi494",
      "include_colab_link": true
    },
    "kernelspec": {
      "name": "python3",
      "display_name": "Python 3"
    },
    "language_info": {
      "name": "python"
    }
  },
  "cells": [
    {
      "cell_type": "markdown",
      "metadata": {
        "id": "view-in-github",
        "colab_type": "text"
      },
      "source": [
        "<a href=\"https://colab.research.google.com/github/PhoenixStormJr/Unfinished-Colab-AI-enhance-video/blob/main/ProgressBar.ipynb\" target=\"_parent\"><img src=\"https://colab.research.google.com/assets/colab-badge.svg\" alt=\"Open In Colab\"/></a>"
      ]
    },
    {
      "cell_type": "code",
      "execution_count": 22,
      "metadata": {
        "colab": {
          "base_uri": "https://localhost:8080/"
        },
        "id": "vZfMpqG445Ah",
        "outputId": "16b30d2a-5e58-4ac9-a88f-56f66687f643"
      },
      "outputs": [
        {
          "output_type": "stream",
          "name": "stdout",
          "text": [
            "50.1% : [█████████████████████████_________________________]\n"
          ]
        }
      ],
      "source": [
        "def ProgressBar(number_on,final,units=100):\n",
        "  percent = round((round(number_on)/round(final))*100,2)\n",
        "  returnText = f\"{percent}% : [\"\n",
        "  new_number_on = round((units*(number_on/final)))\n",
        "  for x in range(new_number_on):\n",
        "    returnText = returnText + \"█\"\n",
        "  for x in range(units-new_number_on):\n",
        "    returnText = returnText + \"_\"\n",
        "  returnText = returnText + \"]\"\n",
        "  return returnText\n",
        "\n",
        "\n",
        "print(ProgressBar(501,1000,50))"
      ]
    }
  ]
}