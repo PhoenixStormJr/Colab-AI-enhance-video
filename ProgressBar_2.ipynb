{
  "nbformat": 4,
  "nbformat_minor": 0,
  "metadata": {
    "colab": {
      "provenance": [],
      "authorship_tag": "ABX9TyOV9GFbiiJmBZ2eSWAQ3lu2",
      "include_colab_link": true
    },
    "kernelspec": {
      "name": "python3",
      "display_name": "Python 3"
    },
    "language_info": {
      "name": "python"
    }
  },
  "cells": [
    {
      "cell_type": "markdown",
      "metadata": {
        "id": "view-in-github",
        "colab_type": "text"
      },
      "source": [
        "<a href=\"https://colab.research.google.com/github/PhoenixStormJr/Colab-AI-enhance-video-CPU-only/blob/main/ProgressBar_2.ipynb\" target=\"_parent\"><img src=\"https://colab.research.google.com/assets/colab-badge.svg\" alt=\"Open In Colab\"/></a>"
      ]
    },
    {
      "cell_type": "code",
      "execution_count": 1,
      "metadata": {
        "colab": {
          "base_uri": "https://localhost:8080/"
        },
        "id": "vZfMpqG445Ah",
        "outputId": "7c3dab2e-e789-42bc-cdd8-65ef530bd629"
      },
      "outputs": [
        {
          "output_type": "stream",
          "name": "stdout",
          "text": [
            "9608\n",
            "\n",
            "[▎   ] : 6.25%\n",
            "\n",
            "[    ] : 0.00%\n",
            "[▏   ] : 3.12%\n",
            "[▎   ] : 6.25%\n",
            "[▍   ] : 9.38%\n",
            "[▌   ] : 12.50%\n",
            "[▋   ] : 15.62%\n",
            "[▊   ] : 18.75%\n",
            "[▉   ] : 21.88%\n",
            "[█   ] : 25.00%\n",
            "[█▏  ] : 28.12%\n",
            "[█▎  ] : 31.25%\n",
            "[█▍  ] : 34.38%\n",
            "[█▌  ] : 37.50%\n",
            "[█▋  ] : 40.62%\n",
            "[█▊  ] : 43.75%\n",
            "[█▉  ] : 46.88%\n",
            "[██  ] : 50.00%\n",
            "[██▏ ] : 53.12%\n",
            "[██▎ ] : 56.25%\n",
            "[██▍ ] : 59.38%\n",
            "[██▌ ] : 62.50%\n",
            "[██▋ ] : 65.62%\n",
            "[██▊ ] : 68.75%\n",
            "[██▉ ] : 71.88%\n",
            "[███ ] : 75.00%\n",
            "[███▏] : 78.12%\n",
            "[███▎] : 81.25%\n",
            "[███▍] : 84.38%\n",
            "[███▌] : 87.50%\n",
            "[███▋] : 90.62%\n",
            "[███▊] : 93.75%\n",
            "[███▉] : 96.88%\n",
            "[████] : 100.00%\n"
          ]
        }
      ],
      "source": [
        "def ProgressBar(number_on,final,units=100):\n",
        "  units2 = units*8\n",
        "  percent = \"{:.2f}\".format((number_on/final)*100)\n",
        "  new_number_on = round((units2*(number_on/final)))\n",
        "  returnText = \"[\"\n",
        "  x = new_number_on\n",
        "  bar = \"\"\n",
        "  while x > 0:\n",
        "    if(x >= 8):\n",
        "      bar = bar + chr(9608) #█\n",
        "      x = x - 8\n",
        "    elif(x == 7):\n",
        "      bar = bar + chr(9609) #▉\n",
        "      x = 0\n",
        "    elif(x == 6):\n",
        "      bar = bar + chr(9610) #▊\n",
        "      x = 0\n",
        "    elif(x == 5):\n",
        "      bar = bar + chr(9611) #▋\n",
        "      x = 0\n",
        "    elif(x == 4):\n",
        "      bar = bar + chr(9612) #▌\n",
        "      x = 0\n",
        "    elif(x == 3):\n",
        "      bar = bar + chr(9613) #▍\n",
        "      x = 0\n",
        "    elif(x == 2):\n",
        "      bar = bar + chr(9614) #▎\n",
        "      x = 0\n",
        "    elif(x == 1):\n",
        "      bar = bar + chr(9615) #▏\n",
        "      x = 0\n",
        "  while len(bar) < units:\n",
        "    bar = bar + \" \"\n",
        "  returnText = returnText + bar + f\"] : {percent}%\"\n",
        "  return returnText\n",
        "\n",
        "print(ord(\"█\"))\n",
        "print()\n",
        "print(ProgressBar(2,32,4))\n",
        "print()\n",
        "x = 0\n",
        "while x < 32+1:\n",
        "  print(ProgressBar(x,32,4))\n",
        "  x = x + 1"
      ]
    }
  ]
}